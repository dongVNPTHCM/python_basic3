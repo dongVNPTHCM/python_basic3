{
  "nbformat": 4,
  "nbformat_minor": 0,
  "metadata": {
    "colab": {
      "provenance": [],
      "toc_visible": true,
      "authorship_tag": "ABX9TyNBDaC6eF5DDiRssG0RI11z",
      "include_colab_link": true
    },
    "kernelspec": {
      "name": "python3",
      "display_name": "Python 3"
    },
    "language_info": {
      "name": "python"
    }
  },
  "cells": [
    {
      "cell_type": "markdown",
      "metadata": {
        "id": "view-in-github",
        "colab_type": "text"
      },
      "source": [
        "<a href=\"https://colab.research.google.com/gist/dongVNPTHCM/39c72f609e55f500163013b4498d902e/python_basic3.ipynb\" target=\"_parent\"><img src=\"https://colab.research.google.com/assets/colab-badge.svg\" alt=\"Open In Colab\"/></a>"
      ]
    },
    {
      "cell_type": "code",
      "execution_count": 3,
      "metadata": {
        "colab": {
          "base_uri": "https://localhost:8080/"
        },
        "id": "kbB8b62p9UYz",
        "outputId": "178ba748-15b9-49c7-c520-21f703329ee9"
      },
      "outputs": [
        {
          "output_type": "stream",
          "name": "stdout",
          "text": [
            "3.134933333333333\n"
          ]
        }
      ],
      "source": [
        "\n",
        "import random\n",
        "import math\n",
        "N = 30000\n",
        "N_T = 0\n",
        "for i in range(N):\n",
        "  x = random.random()*2 - 1\n",
        "  y = random.random()*2 - 1\n",
        "  x2 = x**2\n",
        "  y2 = y**2\n",
        "  if math.sqrt(x2 + y2) <= 1.0:\n",
        "    N_T = N_T + 1\n",
        "pi = (N_T / N) * 4\n",
        "print(pi)"
      ]
    },
    {
      "cell_type": "code",
      "source": [
        "def factorial(n):\n",
        "  result = 1\n",
        "  for i in range(2, n+1):\n",
        "    result = result*i\n",
        "  return result\n",
        "def estimate_e(n):\n",
        "  result = 1\n",
        "  for i in range(1, n+1):\n",
        "    result = result + 1/factorial(i)\n",
        "  return result\n",
        "print(estimate_e(10))"
      ],
      "metadata": {
        "colab": {
          "base_uri": "https://localhost:8080/"
        },
        "id": "6wgYiZ7490X1",
        "outputId": "f2a862f2-7319-4893-e31e-b2eeac1f165e"
      },
      "execution_count": 4,
      "outputs": [
        {
          "output_type": "stream",
          "name": "stdout",
          "text": [
            "2.7182818011463845\n"
          ]
        }
      ]
    },
    {
      "cell_type": "code",
      "source": [
        "def compute_square_root (N, num_loops):\n",
        "  x_n = N/2.0\n",
        "  for i in range(num_loops):\n",
        "    x_np1 = (x_n + N/x_n) / 2.0\n",
        "    x_n = x_np1\n",
        "  \n",
        "  return x_np1\n",
        "\n",
        "print(compute_square_root(N=9, num_loops=10))\n",
        "print(compute_square_root(N=2, num_loops=10))"
      ],
      "metadata": {
        "colab": {
          "base_uri": "https://localhost:8080/"
        },
        "id": "PSUmVTGm9_bE",
        "outputId": "a33d2f37-eca8-41a2-8fd9-d5f5f467b64a"
      },
      "execution_count": 5,
      "outputs": [
        {
          "output_type": "stream",
          "name": "stdout",
          "text": [
            "3.0\n",
            "1.414213562373095\n"
          ]
        }
      ]
    },
    {
      "cell_type": "code",
      "source": [
        "import random\n",
        "total_flips = 0\n",
        "num_tails = 0\n",
        "num_heads = 0\n",
        "for _ in range(1000):\n",
        "  n = random.random()\n",
        "  if n < 0.5:\n",
        "    num_tails = num_tails + 1\n",
        "  else: \n",
        "      num_heads = num_heads + 1\n",
        "  total_flips = total_flips + 1\n",
        "print(num_tails/total_flips)"
      ],
      "metadata": {
        "colab": {
          "base_uri": "https://localhost:8080/"
        },
        "id": "UXZDhRK1-GQ8",
        "outputId": "157f3b6f-b7fe-4d1c-931f-7185834f2a55"
      },
      "execution_count": 6,
      "outputs": [
        {
          "output_type": "stream",
          "name": "stdout",
          "text": [
            "0.485\n"
          ]
        }
      ]
    }
  ]
}